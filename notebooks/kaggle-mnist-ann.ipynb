{
 "cells": [
  {
   "cell_type": "code",
   "execution_count": null,
   "metadata": {
    "collapsed": true
   },
   "outputs": [],
   "source": [
    "\"\"\"A very simple MNIST classifier.\n",
    "based on tutorials https://www.tensorflow.org/get_started/mnist/beginners\n",
    "and https://codelabs.developers.google.com/codelabs/cloud-tensorflow-mnist\n",
    "see Legal Notes at the end of the notebook\n",
    "\"\"\"\n",
    "from __future__ import absolute_import\n",
    "from __future__ import division\n",
    "from __future__ import print_function\n",
    "\n",
    "import matplotlib.pyplot as plt\n",
    "%matplotlib inline\n",
    "import pandas as pd\n",
    "import numpy as np\n",
    "import random\n",
    "\n",
    "from tensorflow.contrib.learn.python.learn.datasets import base\n",
    "from tensorflow.contrib.learn.python.learn.datasets.mnist import DataSet\n",
    "\n",
    "import tensorflow as tf\n",
    "\n",
    "SOURCE_URL = 'https://storage.googleapis.com/cloud-deeplearning/kaggle_mnist_data/'\n",
    "DOWNLOAD_DATASETS=True\n",
    "DATA_DIR = '../input/'\n",
    "KAGGLE_TRAIN_CSV = 'train.csv'\n",
    "KAGGLE_TEST_CSV = 'test.csv'\n",
    "SUBMISSION_FILE = 'submission_mnist_ann.csv'\n",
    "\n",
    "# should sum up to 42000, the total number of images in train.csv\n",
    "TRAIN_SIZE = 38000\n",
    "VALID_SIZE = 2000\n",
    "TEST_SIZE = 2000"
   ]
  },
  {
   "cell_type": "code",
   "execution_count": null,
   "metadata": {
    "collapsed": true
   },
   "outputs": [],
   "source": [
    "# Can't use datasets from tensorflow tutorial, because the slicing of train, valid and test data differs from kaggle datasets\n",
    "# TEMP_DIR = '/tmp/tensorflow/mnist/input_data'\n",
    "# mnist = input_data.read_data_sets(TEMP_DIR, one_hot=True)"
   ]
  },
  {
   "cell_type": "code",
   "execution_count": null,
   "metadata": {
    "collapsed": true
   },
   "outputs": [],
   "source": [
    "def custom_kaggle_mnist():\n",
    "    \"\"\"\n",
    "    downloads and parses mnist train dataset for kaggle digit recognizer\n",
    "    parsing and one_hot copied https://www.kaggle.com/kakauandme/tensorflow-deep-nn\n",
    "    \"\"\"\n",
    "    if DOWNLOAD_DATASETS:\n",
    "        base.maybe_download(KAGGLE_TRAIN_CSV, DATA_DIR, SOURCE_URL + KAGGLE_TRAIN_CSV)\n",
    "\n",
    "    # Import data from datasource, see https://www.kaggle.com/kakauandme/tensorflow-deep-nn\n",
    "    # read training data from CSV file \n",
    "    data = pd.read_csv(DATA_DIR + KAGGLE_TRAIN_CSV)\n",
    "    \n",
    "    from sklearn.utils import shuffle\n",
    "    data = shuffle(data, random_state=42)\n",
    "    \n",
    "    images = data.iloc[:,1:].values\n",
    "    images = images.astype(np.float)\n",
    "\n",
    "    # convert from [0:255] => [0.0:1.0]\n",
    "    images = np.multiply(images, 1.0 / 255.0)\n",
    "\n",
    "    print('number of images in downloaded train dataset: {0[0]}'.format(images.shape))\n",
    "    \n",
    "    labels_flat = data.iloc[:,0].values\n",
    "    labels_count = np.unique(labels_flat).shape[0]\n",
    "    def dense_to_one_hot(labels_dense, num_classes):\n",
    "        num_labels = labels_dense.shape[0]\n",
    "        index_offset = np.arange(num_labels) * num_classes\n",
    "        labels_one_hot = np.zeros((num_labels, num_classes))\n",
    "        labels_one_hot.flat[index_offset + labels_dense.ravel()] = 1\n",
    "        return labels_one_hot\n",
    "\n",
    "    labels = dense_to_one_hot(labels_flat, labels_count)\n",
    "    labels = labels.astype(np.uint8)\n",
    "\n",
    "    # split data into training & validation\n",
    "    mnist_train_images = images[:TRAIN_SIZE]\n",
    "    mnist_train_labels = labels[:TRAIN_SIZE]\n",
    "    print('number of train images: {0[0]}'.format(mnist_train_images.shape))\n",
    "\n",
    "    mnist_valid_images = images[TRAIN_SIZE:TRAIN_SIZE + VALID_SIZE]\n",
    "    mnist_valid_labels = labels[TRAIN_SIZE:TRAIN_SIZE + VALID_SIZE]\n",
    "    print('number of valid images: {0[0]}'.format(mnist_valid_images.shape))\n",
    "\n",
    "    mnist_test_images = images[TRAIN_SIZE + VALID_SIZE:images.shape[0]]\n",
    "    mnist_test_labels = labels[TRAIN_SIZE + VALID_SIZE:images.shape[0]]\n",
    "    print('number of test images: {0[0]}'.format(mnist_test_images.shape))\n",
    "    \n",
    "    options = dict(dtype=np.float, reshape=False, seed=42)\n",
    "\n",
    "    train = DataSet(mnist_train_images, mnist_train_labels, options)\n",
    "    valid = DataSet(mnist_valid_images, mnist_valid_labels, options)\n",
    "    test = DataSet(mnist_test_images, mnist_test_labels, options)\n",
    "\n",
    "    return base.Datasets(train=train, validation=valid, test=test)"
   ]
  },
  {
   "cell_type": "code",
   "execution_count": null,
   "metadata": {},
   "outputs": [],
   "source": [
    "mnist = custom_kaggle_mnist()"
   ]
  },
  {
   "cell_type": "code",
   "execution_count": null,
   "metadata": {
    "collapsed": true
   },
   "outputs": [],
   "source": [
    "def display_digit(image, label, num):\n",
    "    \"\"\"\n",
    "    adapted from https://www.oreilly.com/learning/not-another-mnist-tutorial-with-tensorflow\n",
    "    \"\"\"\n",
    "    image = image.reshape([28,28])\n",
    "    plt.title('Example: %d  Label: %d' % (num, label))\n",
    "    plt.imshow(image, cmap=plt.get_cmap('gray'))\n",
    "    plt.show()\n",
    "\n",
    "def visualize_input(img):\n",
    "    \"\"\"\n",
    "    taken from https://github.com/udacity/aind2-cnn/blob/master/mnist-mlp/mnist_mlp.ipynb\n",
    "    \"\"\"\n",
    "    fig = plt.figure(figsize = (12,12)) \n",
    "    ax = fig.add_subplot(111)\n",
    "    ax.imshow(img, cmap=plt.get_cmap('gray'))\n",
    "    width, height = img.shape\n",
    "    thresh = img.max()/2.5\n",
    "    for x in range(width):\n",
    "        for y in range(height):\n",
    "            ax.annotate(str(round(img[x][y],2)), xy=(y,x),\n",
    "                        horizontalalignment='center',\n",
    "                        verticalalignment='center',\n",
    "                        color='white' if img[x][y]<thresh else 'black')"
   ]
  },
  {
   "cell_type": "code",
   "execution_count": null,
   "metadata": {},
   "outputs": [],
   "source": [
    "digit_index = random.randint(0, len(mnist.train.images))\n",
    "display_digit(mnist.train.images[digit_index], mnist.train.labels[digit_index].argmax(), digit_index)"
   ]
  },
  {
   "cell_type": "code",
   "execution_count": null,
   "metadata": {},
   "outputs": [],
   "source": [
    "visualize_input(mnist.train.images[digit_index].reshape([28,28]))"
   ]
  },
  {
   "cell_type": "code",
   "execution_count": null,
   "metadata": {
    "collapsed": true
   },
   "outputs": [],
   "source": [
    "# Create the model\n",
    "x = tf.placeholder(tf.float32, [None, 784])\n",
    "W = tf.Variable(tf.zeros([784, 10]))\n",
    "b = tf.Variable(tf.zeros([10]))\n",
    "y = tf.matmul(x, W) + b"
   ]
  },
  {
   "cell_type": "code",
   "execution_count": null,
   "metadata": {
    "collapsed": true
   },
   "outputs": [],
   "source": [
    "# Define loss and optimizer\n",
    "y_ = tf.placeholder(tf.float32, [None, 10])"
   ]
  },
  {
   "cell_type": "code",
   "execution_count": null,
   "metadata": {
    "collapsed": true
   },
   "outputs": [],
   "source": [
    "# The raw formulation of cross-entropy,\n",
    "#\n",
    "#   tf.reduce_mean(-tf.reduce_sum(y_ * tf.log(tf.nn.softmax(y)),\n",
    "#                                 reduction_indices=[1]))\n",
    "#\n",
    "# can be numerically unstable.\n",
    "#\n",
    "# So here we use tf.nn.softmax_cross_entropy_with_logits on the raw\n",
    "# outputs of 'y', and then average across the batch.\n",
    "cross_entropy = tf.reduce_mean(\n",
    "    tf.nn.softmax_cross_entropy_with_logits(labels=y_, logits=y))\n",
    "train_step = tf.train.GradientDescentOptimizer(0.5).minimize(cross_entropy)\n"
   ]
  },
  {
   "cell_type": "code",
   "execution_count": null,
   "metadata": {
    "collapsed": true
   },
   "outputs": [],
   "source": [
    "sess = tf.InteractiveSession()"
   ]
  },
  {
   "cell_type": "code",
   "execution_count": null,
   "metadata": {
    "collapsed": true
   },
   "outputs": [],
   "source": [
    "tf.global_variables_initializer().run()\n",
    "# Train (10, 100, 1000)\n",
    "for index in range(1000):\n",
    "  batch_xs, batch_ys = mnist.train.next_batch(100)\n",
    "  sess.run(train_step, feed_dict={x: batch_xs, y_: batch_ys})"
   ]
  },
  {
   "cell_type": "code",
   "execution_count": null,
   "metadata": {},
   "outputs": [],
   "source": [
    "# Validate trained model\n",
    "correct_prediction = tf.equal(tf.argmax(y, 1), tf.argmax(y_, 1))\n",
    "accuracy = tf.reduce_mean(tf.cast(correct_prediction, tf.float32))\n",
    "print(sess.run(accuracy, feed_dict={x: mnist.validation.images,\n",
    "                                    y_: mnist.validation.labels}))"
   ]
  },
  {
   "cell_type": "code",
   "execution_count": null,
   "metadata": {},
   "outputs": [],
   "source": [
    "# Test trained model\n",
    "print(sess.run(accuracy, feed_dict={x: mnist.test.images,\n",
    "                                    y_: mnist.test.labels}))"
   ]
  },
  {
   "cell_type": "code",
   "execution_count": null,
   "metadata": {
    "collapsed": true
   },
   "outputs": [],
   "source": [
    "def show_test_wrong():\n",
    "  \"\"\"\n",
    "  from http://euler.stat.yale.edu/~tba3/stat665/lectures/lec17/notebook17.html\n",
    "  \"\"\"\n",
    "  predictions = sess.run(tf.argmax(tf.nn.softmax(y), 1), feed_dict={x: mnist.test.images})\n",
    "\n",
    "  test_labels = sess.run(tf.argmax(mnist.test.labels, 1))\n",
    "\n",
    "  test_wrong = [im for im in zip(mnist.test.images, predictions, test_labels) if im[1] != im[2]]\n",
    "\n",
    "  print('{} images were classified incorrectly'.format(len(test_wrong)))\n",
    "\n",
    "  plt.figure(figsize=(10, 10))\n",
    "  for ind, val in enumerate(test_wrong[:100]):\n",
    "    plt.subplots_adjust(left=0, right=1, bottom=0, top=1.2)\n",
    "    plt.subplot(10, 10, ind + 1)\n",
    "    im = val[0].reshape((28,28))\n",
    "    plt.axis(\"off\")\n",
    "    plt.text(0, -2, val[2], fontsize=14, color='blue')\n",
    "    plt.text(8, -2, val[1], fontsize=14, color='red')\n",
    "    plt.imshow(im, cmap=plt.get_cmap('gray'))\n",
    "  plt.show()"
   ]
  },
  {
   "cell_type": "code",
   "execution_count": null,
   "metadata": {},
   "outputs": [],
   "source": [
    "show_test_wrong()"
   ]
  },
  {
   "cell_type": "code",
   "execution_count": null,
   "metadata": {
    "collapsed": true
   },
   "outputs": [],
   "source": [
    "# trained weights\n",
    "def show_trained_weights():\n",
    "  \"\"\"\n",
    "  from https://www.oreilly.com/learning/not-another-mnist-tutorial-with-tensorflow\n",
    "  \"\"\"\n",
    "  for i in range(10):\n",
    "    plt.subplot(2, 5, i+1)\n",
    "    weight = sess.run(W)[:,i]\n",
    "    plt.title(i)\n",
    "    plt.imshow(weight.reshape([28,28]), cmap=plt.get_cmap('gray'))\n",
    "    frame1 = plt.gca()\n",
    "    frame1.axes.get_xaxis().set_visible(False)\n",
    "    frame1.axes.get_yaxis().set_visible(False)\n",
    "  plt.show()"
   ]
  },
  {
   "cell_type": "code",
   "execution_count": null,
   "metadata": {},
   "outputs": [],
   "source": [
    "show_trained_weights()"
   ]
  },
  {
   "cell_type": "code",
   "execution_count": null,
   "metadata": {},
   "outputs": [],
   "source": [
    "weights_0 = sess.run(W)[:,0].reshape([28,28])\n",
    "visualize_input(weights_0)"
   ]
  },
  {
   "cell_type": "code",
   "execution_count": null,
   "metadata": {
    "collapsed": true
   },
   "outputs": [],
   "source": [
    "# kaggle test data\n",
    "if DOWNLOAD_DATASETS:\n",
    "    base.maybe_download(KAGGLE_TEST_CSV, DATA_DIR, SOURCE_URL + KAGGLE_TEST_CSV)\n",
    "kaggle_test_images = (pd.read_csv(DATA_DIR + KAGGLE_TEST_CSV).values).astype('float32')\n",
    "\n",
    "predictions_kaggle = sess.run(tf.argmax(tf.nn.softmax(y), 1), feed_dict={x: kaggle_test_images})"
   ]
  },
  {
   "cell_type": "code",
   "execution_count": null,
   "metadata": {},
   "outputs": [],
   "source": [
    "with open(SUBMISSION_FILE, 'w') as submission:\n",
    "  submission.write('ImageId,Label\\n')\n",
    "  for index, prediction in enumerate(predictions_kaggle):\n",
    "    submission.write('{0},{1}\\n'.format(index + 1, prediction))\n",
    "  print(\"prediction submission written to {0}\".format(SUBMISSION_FILE))"
   ]
  },
  {
   "cell_type": "code",
   "execution_count": null,
   "metadata": {},
   "outputs": [],
   "source": [
    "# some interesting images from test set: 181, 3967, 18690, 4765\n",
    "test_rand = random.randint(0, len(kaggle_test_images))\n",
    "display_digit(kaggle_test_images[test_rand], predictions_kaggle[test_rand], test_rand)"
   ]
  },
  {
   "cell_type": "code",
   "execution_count": null,
   "metadata": {
    "collapsed": true
   },
   "outputs": [],
   "source": [
    "# Legal Notes:\n",
    "\n",
    "# Copyright and License\n",
    "# from https://www.github.com/tensorflow/tensorflow/blob/r1.2/tensorflow/examples/tutorials/mnist/mnist_softmax.py:\n",
    "\n",
    "# Copyright 2015 The TensorFlow Authors. All Rights Reserved.\n",
    "#\n",
    "# Licensed under the Apache License, Version 2.0 (the \"License\");\n",
    "# you may not use this file except in compliance with the License.\n",
    "# You may obtain a copy of the License at\n",
    "#\n",
    "#     http://www.apache.org/licenses/LICENSE-2.0\n",
    "#\n",
    "# Unless required by applicable law or agreed to in writing, software\n",
    "# distributed under the License is distributed on an \"AS IS\" BASIS,\n",
    "# WITHOUT WARRANTIES OR CONDITIONS OF ANY KIND, either express or implied.\n",
    "# See the License for the specific language governing permissions and\n",
    "# limitations under the License.\n",
    "# =============================================================================="
   ]
  }
 ],
 "metadata": {
  "anaconda-cloud": {},
  "kernelspec": {
   "display_name": "tf35",
   "language": "python",
   "name": "tf35"
  },
  "language_info": {
   "codemirror_mode": {
    "name": "ipython",
    "version": 3
   },
   "file_extension": ".py",
   "mimetype": "text/x-python",
   "name": "python",
   "nbconvert_exporter": "python",
   "pygments_lexer": "ipython3",
   "version": "3.5.3"
  }
 },
 "nbformat": 4,
 "nbformat_minor": 2
}
